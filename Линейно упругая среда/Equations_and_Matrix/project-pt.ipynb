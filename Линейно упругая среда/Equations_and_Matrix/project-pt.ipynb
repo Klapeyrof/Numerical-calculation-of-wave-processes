{
 "cells": [
  {
   "cell_type": "code",
   "execution_count": 2,
   "metadata": {
    "metadata": {}
   },
   "outputs": [],
   "source": [
    "import numpy as np\n",
    "import matplotlib.pyplot as plt\n",
    "from sympy import *"
   ]
  },
  {
   "cell_type": "code",
   "execution_count": 8,
   "metadata": {
    "metadata": {}
   },
   "outputs": [
    {
     "name": "stdout",
     "output_type": "stream",
     "text": [
      "Матрица Sx:\n"
     ]
    },
    {
     "data": {
      "text/latex": [
       "$\\displaystyle \\left[\\begin{matrix}0 & 0 & 0 & \\rho \\sqrt{\\frac{\\lambda + 2 \\mu}{\\rho}} & - \\rho \\sqrt{\\frac{\\lambda + 2 \\mu}{\\rho}}\\\\0 & \\rho \\sqrt{\\frac{\\mu}{\\rho}} & - \\rho \\sqrt{\\frac{\\mu}{\\rho}} & 0 & 0\\\\0 & 0 & 0 & 1 & 1\\\\\\frac{- \\lambda - 2 \\mu}{\\mu} & 1 & 1 & 0 & 0\\\\1 & 0 & 0 & 0 & 0\\end{matrix}\\right]$"
      ],
      "text/plain": [
       "Matrix([\n",
       "[                  0,                0,                 0, rho*sqrt((lambda + 2*mu)/rho), -rho*sqrt((lambda + 2*mu)/rho)],\n",
       "[                  0, rho*sqrt(mu/rho), -rho*sqrt(mu/rho),                             0,                              0],\n",
       "[                  0,                0,                 0,                             1,                              1],\n",
       "[(-lambda - 2*mu)/mu,                1,                 1,                             0,                              0],\n",
       "[                  1,                0,                 0,                             0,                              0]])"
      ]
     },
     "execution_count": 8,
     "metadata": {},
     "output_type": "execute_result"
    }
   ],
   "source": [
    "Sx = zeros(5, 5)\n",
    "rho, lamda, mu = symbols('rho, lambda, mu')\n",
    "Sx[0,3] = -(lamda + 2*mu)/mu\n",
    "Sx[0,4] = 1\n",
    "Sx[1,1] = rho*sqrt(mu/rho)\n",
    "Sx[1,3] = 1\n",
    "Sx[2,1] = -rho*sqrt(mu/rho)\n",
    "Sx[2,3] = 1\n",
    "Sx[3,0] = rho*sqrt((lamda + 2*mu)/rho)\n",
    "Sx[3,2] = 1\n",
    "Sx[4,0] = -rho*sqrt((lamda + 2*mu)/rho)\n",
    "Sx[4,2] = 1\n",
    "\n",
    "print(\"Матрица Sx:\")\n",
    "Sx = Sx.T\n",
    "Sx"
   ]
  },
  {
   "cell_type": "code",
   "execution_count": 5,
   "metadata": {},
   "outputs": [
    {
     "name": "stdout",
     "output_type": "stream",
     "text": [
      "Обратная матрица Sx:\n"
     ]
    },
    {
     "data": {
      "text/latex": [
       "$\\displaystyle \\left[\\begin{matrix}0 & 0 & 0 & 0 & 1\\\\0 & \\frac{1}{2 \\rho \\sqrt{\\frac{\\mu}{\\rho}}} & 0 & \\frac{1}{2} & - \\frac{- \\lambda - 2 \\mu}{2 \\mu}\\\\0 & - \\frac{1}{2 \\rho \\sqrt{\\frac{\\mu}{\\rho}}} & 0 & \\frac{1}{2} & - \\frac{- \\lambda - 2 \\mu}{2 \\mu}\\\\\\frac{1}{2 \\rho \\sqrt{\\frac{\\lambda + 2 \\mu}{\\rho}}} & 0 & \\frac{1}{2} & 0 & 0\\\\- \\frac{1}{2 \\rho \\sqrt{\\frac{\\lambda + 2 \\mu}{\\rho}}} & 0 & \\frac{1}{2} & 0 & 0\\end{matrix}\\right]$"
      ],
      "text/plain": [
       "Matrix([\n",
       "[                                   0,                       0,   0,   0,                        1],\n",
       "[                                   0,  1/(2*rho*sqrt(mu/rho)),   0, 1/2, -(-lambda - 2*mu)/(2*mu)],\n",
       "[                                   0, -1/(2*rho*sqrt(mu/rho)),   0, 1/2, -(-lambda - 2*mu)/(2*mu)],\n",
       "[ 1/(2*rho*sqrt((lambda + 2*mu)/rho)),                       0, 1/2,   0,                        0],\n",
       "[-1/(2*rho*sqrt((lambda + 2*mu)/rho)),                       0, 1/2,   0,                        0]])"
      ]
     },
     "execution_count": 5,
     "metadata": {},
     "output_type": "execute_result"
    }
   ],
   "source": [
    "print(\"Обратная матрица Sx:\")\n",
    "(Sx).inv(method=\"LU\")"
   ]
  },
  {
   "cell_type": "code",
   "execution_count": 6,
   "metadata": {},
   "outputs": [
    {
     "name": "stdout",
     "output_type": "stream",
     "text": [
      "Матрица Sy:\n"
     ]
    }
   ],
   "source": [
    "Sy = zeros(5, 5)\n",
    "rho, lamda, mu = symbols('rho, lambda, mu')\n",
    "Sy[0,2] = -mu/(lamda + 2*mu)\n",
    "Sy[0,3] = 1\n",
    "Sy[1,0] = rho*sqrt(mu/rho)\n",
    "Sy[1,3] = 1\n",
    "Sy[2,0] = -rho*sqrt(mu/rho)\n",
    "Sy[2,3] = 1\n",
    "Sy[3,1] = rho*sqrt((lamda + 2*mu)/rho)\n",
    "Sy[3,4] = 1\n",
    "Sy[4,1] = -rho*sqrt((lamda + 2*mu)/rho)\n",
    "Sy[4,4] = 1\n",
    "\n",
    "print(\"Матрица Sy:\")\n",
    "Sy = Sy.T"
   ]
  },
  {
   "cell_type": "code",
   "execution_count": 7,
   "metadata": {},
   "outputs": [
    {
     "name": "stdout",
     "output_type": "stream",
     "text": [
      "Обратная матрица Sy:\n"
     ]
    },
    {
     "data": {
      "text/latex": [
       "$\\displaystyle \\left[\\begin{matrix}0 & 0 & - \\frac{\\lambda + 2 \\mu}{\\mu} & 0 & 0\\\\\\frac{1}{2 \\rho \\sqrt{\\frac{\\mu}{\\rho}}} & 0 & \\frac{\\lambda + 2 \\mu}{2 \\mu} & \\frac{1}{2} & 0\\\\- \\frac{1}{2 \\rho \\sqrt{\\frac{\\mu}{\\rho}}} & 0 & \\frac{\\lambda + 2 \\mu}{2 \\mu} & \\frac{1}{2} & 0\\\\0 & \\frac{1}{2 \\rho \\sqrt{\\frac{\\lambda + 2 \\mu}{\\rho}}} & 0 & 0 & \\frac{1}{2}\\\\0 & - \\frac{1}{2 \\rho \\sqrt{\\frac{\\lambda + 2 \\mu}{\\rho}}} & 0 & 0 & \\frac{1}{2}\\end{matrix}\\right]$"
      ],
      "text/plain": [
       "Matrix([\n",
       "[                      0,                                    0,    -(lambda + 2*mu)/mu,   0,   0],\n",
       "[ 1/(2*rho*sqrt(mu/rho)),                                    0, (lambda + 2*mu)/(2*mu), 1/2,   0],\n",
       "[-1/(2*rho*sqrt(mu/rho)),                                    0, (lambda + 2*mu)/(2*mu), 1/2,   0],\n",
       "[                      0,  1/(2*rho*sqrt((lambda + 2*mu)/rho)),                      0,   0, 1/2],\n",
       "[                      0, -1/(2*rho*sqrt((lambda + 2*mu)/rho)),                      0,   0, 1/2]])"
      ]
     },
     "execution_count": 7,
     "metadata": {},
     "output_type": "execute_result"
    }
   ],
   "source": [
    "print(\"Обратная матрица Sy:\")\n",
    "Sy.inv(method=\"LU\")"
   ]
  },
  {
   "cell_type": "markdown",
   "metadata": {},
   "source": [
    "**Интерполяция**"
   ]
  },
  {
   "cell_type": "code",
   "execution_count": 49,
   "metadata": {},
   "outputs": [],
   "source": [
    "def interp(q, v, S, dt, dx, size):\n",
    "    #Переход от q к инвариантам w\n",
    "    w = zeros(5, 1) #Задаем стобец из 5 инвариантов\n",
    "    curr_w = [w] * size #Для каждой ячейки сетки задаем столбец из 5 инвариантов\n",
    "\n",
    "    for i in range(size):\n",
    "        curr_w[i] = S.inv(method=\"LU\")*q[i] #i-ый столбец из 5 инвариантов задаётся умножением S.inv() на i-ый столбец q \n",
    "    \n",
    "    #Считаем новые значения инвариантов\n",
    "    next_w = [w] * size #Для каждой ячейки сетки задаем столбец из 5 инвариантов\n",
    "\n",
    "    #Расчет начальных условий на левой границе [!ПОКА НЕПОНЯТНО!]\n",
    "    # next_w1[0] = curr_w1[0] + c * (dt/dx) * (curr_w1[1] - curr_w1[0])\n",
    "    # ksi = (v[0] - _omega11*next_w1[0])/(_omega12*next_w1[0])\n",
    "    # next_w2[0] = ksi * next_w1[0]\n",
    "\n",
    "    #Используем дифф. уравнения в области, где через них все можно посчитать [1, size-1]\n",
    "    for j in range(1, size-1):\n",
    "        #Это пока годно для Sx\n",
    "        next_w[j][1] = curr_w[j][1] + v * (dt/dx) * (curr_w[j+1][1] - curr_w[j][1])\n",
    "        next_w[j][3] = curr_w[j][3] + v * (dt/dx) * (curr_w[j+1][3] - curr_w[j][3])\n",
    "\n",
    "        next_w[j][2] = curr_w[j][2] + v * (dt/dx) * (curr_w[j][2] - curr_w[j-1][2])\n",
    "        next_w[j][4] = curr_w[j][4] + v * (dt/dx) * (curr_w[j][4] - curr_w[j-1][4])\n",
    "     \n",
    "    #Расчет начальных условий на правой границе [!ПОКА НЕПОНЯТНО!]\n",
    "    # next_w2[-1] = curr_w2[-1] - c * (dt/dx) * (curr_w2[-1] - curr_w2[-2])\n",
    "    # psi = (p[-1] - _omega21*next_w2[-1])/(_omega22*next_w2[-1])\n",
    "    # next_w1[-1] = psi * next_w2[-1]\n",
    "    \n",
    "    return next_w"
   ]
  },
  {
   "cell_type": "markdown",
   "metadata": {},
   "source": [
    "**Тренировочный код**"
   ]
  },
  {
   "cell_type": "code",
   "execution_count": 48,
   "metadata": {},
   "outputs": [
    {
     "name": "stdout",
     "output_type": "stream",
     "text": [
      "Matrix([[1/rho, 0], [0, 1/rho]])\n"
     ]
    },
    {
     "data": {
      "text/latex": [
       "$\\displaystyle \\left[\\begin{matrix}1\\\\0\\\\0\\\\0\\\\0\\end{matrix}\\right]$"
      ],
      "text/plain": [
       "Matrix([\n",
       "[1],\n",
       "[0],\n",
       "[0],\n",
       "[0],\n",
       "[0]])"
      ]
     },
     "execution_count": 48,
     "metadata": {},
     "output_type": "execute_result"
    }
   ],
   "source": [
    "B = zeros(2, 2)\n",
    "B[0,0] = rho\n",
    "B[1,1] = rho\n",
    "B = B.inv(method = \"LU\")\n",
    "\n",
    "H = zeros(2, 1)\n",
    "H[0,0] = 1\n",
    "H[1,0] = 1\n",
    "\n",
    "print(B)\n",
    "B*H\n",
    "\n",
    "a = zeros(5, 1)\n",
    "curr_a = [a] * 2\n",
    "curr_a[0][0] = 1\n",
    "curr_a[0]"
   ]
  }
 ],
 "metadata": {
  "kernelspec": {
   "display_name": "Python 3",
   "language": "python",
   "name": "python3"
  },
  "language_info": {
   "codemirror_mode": {
    "name": "ipython",
    "version": 3
   },
   "file_extension": ".py",
   "mimetype": "text/x-python",
   "name": "python",
   "nbconvert_exporter": "python",
   "pygments_lexer": "ipython3",
   "version": "3.10.12"
  }
 },
 "nbformat": 4,
 "nbformat_minor": 2
}
